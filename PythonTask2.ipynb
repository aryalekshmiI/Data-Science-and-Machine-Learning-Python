{
  "nbformat": 4,
  "nbformat_minor": 0,
  "metadata": {
    "colab": {
      "provenance": []
    },
    "kernelspec": {
      "name": "python3",
      "display_name": "Python 3"
    },
    "language_info": {
      "name": "python"
    }
  },
  "cells": [
    {
      "cell_type": "markdown",
      "source": [
        "Write a python program to find those numbers which are divisible by 7 and multiples of 5,for user input."
      ],
      "metadata": {
        "id": "v0JAi14kSlxw"
      }
    },
    {
      "cell_type": "code",
      "source": [
        "\n",
        "c = int(input(\"Enter the number\"))\n",
        "\n",
        "if c % 7 == 0 and c % 5 == 0:\n",
        "  print(c, \" is divisible by 7 and 5.\")\n",
        "else:\n",
        "  print(c, \" is not divisible by 7 and 5.\")\n",
        "\n",
        "\n"
      ],
      "metadata": {
        "colab": {
          "base_uri": "https://localhost:8080/"
        },
        "id": "DxHvyXrzUqmo",
        "outputId": "c6a8c8a7-0ba4-471e-d597-c2d7044aa106"
      },
      "execution_count": 4,
      "outputs": [
        {
          "output_type": "stream",
          "name": "stdout",
          "text": [
            "Enter the number5\n",
            "5  is not divisible by 7 and 5.\n"
          ]
        }
      ]
    },
    {
      "cell_type": "markdown",
      "source": [
        "\n",
        " Write a python program to check the user input is even or odd or zero."
      ],
      "metadata": {
        "id": "ZiQd_x19ViK6"
      }
    },
    {
      "cell_type": "code",
      "source": [
        "\n",
        "num = int (input (\"Enter any number to test whether it is odd or even:\" ))\n",
        "\n",
        "if (num % 2) == 0:\n",
        "  print (\"The number is even\")\n",
        "\n",
        "else:\n",
        "  print (\"The provided number is odd\")\n",
        "\n"
      ],
      "metadata": {
        "colab": {
          "base_uri": "https://localhost:8080/"
        },
        "id": "VGiE_kQeVjEY",
        "outputId": "89343368-fdd5-4d9f-ae90-48899c40b986"
      },
      "execution_count": 2,
      "outputs": [
        {
          "output_type": "stream",
          "name": "stdout",
          "text": [
            "Enter any number to test whether it is odd or even:26\n",
            "The number is even\n"
          ]
        }
      ]
    },
    {
      "cell_type": "markdown",
      "source": [
        "\n",
        "Print decimal part of an input number. If the decimal part is zero print the string : “INTEGER”"
      ],
      "metadata": {
        "id": "Kc1lp0MGWFBM"
      }
    },
    {
      "cell_type": "code",
      "source": [
        "a=float(input(\"Enter the number\"))\n",
        "c=a-int(a)\n",
        "if c==0:\n",
        "  print(\"INTEGER\")\n",
        "else:\n",
        "  print(\"NOT AN INTEGER\")"
      ],
      "metadata": {
        "colab": {
          "base_uri": "https://localhost:8080/"
        },
        "id": "kpYWcf4vWTsz",
        "outputId": "1f3c4799-e5e3-4cd1-ab6e-70e17763e38f"
      },
      "execution_count": 9,
      "outputs": [
        {
          "output_type": "stream",
          "name": "stdout",
          "text": [
            "Enter the number8.9\n",
            "NOT AN INTEGER\n"
          ]
        }
      ]
    }
  ]
}