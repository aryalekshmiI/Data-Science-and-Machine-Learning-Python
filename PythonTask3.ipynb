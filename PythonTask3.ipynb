{
  "nbformat": 4,
  "nbformat_minor": 0,
  "metadata": {
    "colab": {
      "provenance": []
    },
    "kernelspec": {
      "name": "python3",
      "display_name": "Python 3"
    },
    "language_info": {
      "name": "python"
    }
  },
  "cells": [
    {
      "cell_type": "markdown",
      "source": [
        "Write a Python program to sum all the items in a list"
      ],
      "metadata": {
        "id": "B2Py59bAmbfM"
      }
    },
    {
      "cell_type": "code",
      "source": [
        "total = 0\n",
        "\n",
        "# creating a list\n",
        "list1 = [11, 5, 17, 18, 23]\n",
        "\n",
        "# Iterate each element in list\n",
        "# and add them in variable total\n",
        "for ele in range(0, len(list1)):\n",
        "    total = total + list1[ele]\n",
        "\n",
        "# printing total value\n",
        "print(\"Sum of all elements in given list: \", total)"
      ],
      "metadata": {
        "colab": {
          "base_uri": "https://localhost:8080/"
        },
        "id": "E1U81shMmidq",
        "outputId": "549e0954-0c17-4703-c929-383224d2c8ce"
      },
      "execution_count": 10,
      "outputs": [
        {
          "output_type": "stream",
          "name": "stdout",
          "text": [
            "Sum of all elements in given list:  74\n"
          ]
        }
      ]
    },
    {
      "cell_type": "markdown",
      "source": [
        "Write a Python program to get the largest number from a list."
      ],
      "metadata": {
        "id": "UBlUCZlNncZQ"
      }
    },
    {
      "cell_type": "code",
      "source": [
        "# list of numbers\n",
        "list1 = [10, 20, 4, 45, 99]\n",
        "\n",
        "# sorting the list\n",
        "list1.sort()\n",
        "\n",
        "# printing the last element\n",
        "print(\"Largest element is:\", list1[-1])"
      ],
      "metadata": {
        "colab": {
          "base_uri": "https://localhost:8080/"
        },
        "id": "fxOyaTRxniTa",
        "outputId": "a63a3d83-d5b3-4dc6-ab18-6d7c2adf2131"
      },
      "execution_count": 11,
      "outputs": [
        {
          "output_type": "stream",
          "name": "stdout",
          "text": [
            "Largest element is: 99\n"
          ]
        }
      ]
    },
    {
      "cell_type": "code",
      "source": [
        "lst = [20, 49, 1, 99]\n",
        "\n",
        "#initialize largest with first element\n",
        "largest = lst[0]\n",
        "\n",
        "#traverse the array\n",
        "for i in lst:\n",
        "    if i>largest:\n",
        "        largest = i\n",
        "\n",
        "print(largest)"
      ],
      "metadata": {
        "colab": {
          "base_uri": "https://localhost:8080/"
        },
        "id": "_z__b_kCnvTw",
        "outputId": "0e1c2564-3b25-463e-beca-673bbaee59fd"
      },
      "execution_count": 12,
      "outputs": [
        {
          "output_type": "stream",
          "name": "stdout",
          "text": [
            "99\n"
          ]
        }
      ]
    },
    {
      "cell_type": "markdown",
      "source": [
        "Write a Python program to count the number of strings from a given list of strings. The string length is 2 or more and the first and last characters are the same.\n",
        "Sample List : ['abc', 'xyz', 'aba', '1221']\n",
        "Expected Result : 2\n"
      ],
      "metadata": {
        "id": "0i1f9omWoMA6"
      }
    },
    {
      "cell_type": "code",
      "source": [
        "# Sample List\n",
        "sample_list = ['abc', 'xyz', 'aba', '1221']\n",
        "\n",
        "# Count the number of strings meeting the criteria\n",
        "count = 0\n",
        "for s in sample_list:\n",
        "    if len(s) >= 2 and s[0] == s[-1]:\n",
        "        count += 1\n",
        "\n",
        "# Display the result\n",
        "print(\"Expected Result:\", count)"
      ],
      "metadata": {
        "colab": {
          "base_uri": "https://localhost:8080/"
        },
        "id": "5W-_uIiuoNWf",
        "outputId": "8d3a89a6-57fa-4b7d-e614-f49f31b12a40"
      },
      "execution_count": 13,
      "outputs": [
        {
          "output_type": "stream",
          "name": "stdout",
          "text": [
            "Expected Result: 2\n"
          ]
        }
      ]
    },
    {
      "cell_type": "markdown",
      "source": [
        " Write a Python program to remove duplicates from a list"
      ],
      "metadata": {
        "id": "ByHH5iSwoqnf"
      }
    },
    {
      "cell_type": "code",
      "source": [
        "sample_list = [1, 2, 3, 4, 2, 3, 5, 6, 7, 8, 1]\n",
        "\n",
        "# Remove duplicates using set\n",
        "unique_list = list(set(sample_list))\n",
        "\n",
        "# Display the result\n",
        "print(\"Original List:\", sample_list)\n",
        "print(\"List with Duplicates Removed:\", unique_list)"
      ],
      "metadata": {
        "colab": {
          "base_uri": "https://localhost:8080/"
        },
        "id": "g4x0DlTHov30",
        "outputId": "4a0c5a64-1720-4ca0-e022-c0783a2b007d"
      },
      "execution_count": 14,
      "outputs": [
        {
          "output_type": "stream",
          "name": "stdout",
          "text": [
            "Original List: [1, 2, 3, 4, 2, 3, 5, 6, 7, 8, 1]\n",
            "List with Duplicates Removed: [1, 2, 3, 4, 5, 6, 7, 8]\n"
          ]
        }
      ]
    },
    {
      "cell_type": "code",
      "source": [
        "# Sample List with Duplicates\n",
        "sample_list = [1, 2, 2, 3, 4, 4, 5]\n",
        "\n",
        "# Remove duplicates by iterating through the list\n",
        "unique_list = []\n",
        "for item in sample_list:\n",
        "    if item not in unique_list:\n",
        "        unique_list.append(item)\n",
        "\n",
        "# Display the result\n",
        "print(\"Original List:\", sample_list)\n",
        "print(\"List after removing duplicates:\", unique_list)"
      ],
      "metadata": {
        "colab": {
          "base_uri": "https://localhost:8080/"
        },
        "id": "fCBzl3F4pJTW",
        "outputId": "a55e9f1c-290d-4019-a097-bb1bd93f2047"
      },
      "execution_count": 15,
      "outputs": [
        {
          "output_type": "stream",
          "name": "stdout",
          "text": [
            "Original List: [1, 2, 2, 3, 4, 4, 5]\n",
            "List after removing duplicates: [1, 2, 3, 4, 5]\n"
          ]
        }
      ]
    },
    {
      "cell_type": "markdown",
      "source": [
        "Write a Python program to check if a list is empty or not."
      ],
      "metadata": {
        "id": "YC6UDdKJpO98"
      }
    },
    {
      "cell_type": "code",
      "source": [
        "# Sample List\n",
        "my_list = []\n",
        "\n",
        "# Check if the list is empty using a loop\n",
        "is_empty = True\n",
        "for item in my_list:\n",
        "    is_empty = False\n",
        "    break\n",
        "\n",
        "# Display the result\n",
        "if is_empty:\n",
        "    print(\"The list is empty.\")\n",
        "else:\n",
        "    print(\"The list is not empty.\")"
      ],
      "metadata": {
        "colab": {
          "base_uri": "https://localhost:8080/"
        },
        "id": "3iDt7c89pUVy",
        "outputId": "6fc28dfe-d2fb-4547-ca0d-5a918ac17ee2"
      },
      "execution_count": 16,
      "outputs": [
        {
          "output_type": "stream",
          "name": "stdout",
          "text": [
            "The list is empty.\n"
          ]
        }
      ]
    },
    {
      "cell_type": "markdown",
      "source": [
        " Write a Python program to filter the list if the length of the character is < 4\n",
        "Sample List : ['abc', 'xyz', 'aba', '1221']\n",
        "Expected Result: ['abc', 'xyz', 'aba']\n"
      ],
      "metadata": {
        "id": "EwYkdUzDptFl"
      }
    },
    {
      "cell_type": "code",
      "source": [
        "# Sample List\n",
        "my_list = ['abc', 'xyz', 'aba', '1221']\n",
        "\n",
        "# Filter the list based on length < 4\n",
        "filtered_list = [item for item in my_list if len(item) < 4]\n",
        "\n",
        "# Display the result\n",
        "print(\"Sample List:\", my_list)\n",
        "print(\"Filtered List (length < 4):\", filtered_list)"
      ],
      "metadata": {
        "colab": {
          "base_uri": "https://localhost:8080/"
        },
        "id": "0xx71D4Ipxqn",
        "outputId": "f1c8a9f9-4849-4e25-d98d-794091855b98"
      },
      "execution_count": 18,
      "outputs": [
        {
          "output_type": "stream",
          "name": "stdout",
          "text": [
            "Sample List: ['abc', 'xyz', 'aba', '1221']\n",
            "Filtered List (length < 4): ['abc', 'xyz', 'aba']\n"
          ]
        }
      ]
    },
    {
      "cell_type": "markdown",
      "source": [
        "Write a Python program to find the second largest number in a list."
      ],
      "metadata": {
        "id": "OQfnsJVIsfFS"
      }
    },
    {
      "cell_type": "code",
      "source": [
        "# Sample List\n",
        "my_list = [10, 5, 8, 20, 15]\n",
        "\n",
        "# Find the second largest number using a loop\n",
        "if len(my_list) < 2:\n",
        "    print(\"List should have at least two elements.\")\n",
        "else:\n",
        "    first_largest = second_largest = float('-inf')\n",
        "\n",
        "    for num in my_list:\n",
        "        if num > first_largest:\n",
        "            second_largest = first_largest\n",
        "            first_largest = num\n",
        "        elif num > second_largest and num != first_largest:\n",
        "            second_largest = num\n",
        "\n",
        "    # Display the result\n",
        "    print(\"Sample List:\", my_list)\n",
        "    print(\"Second Largest Number:\", second_largest)\n"
      ],
      "metadata": {
        "colab": {
          "base_uri": "https://localhost:8080/"
        },
        "id": "73e8Ktl9shVw",
        "outputId": "6e455b75-b1c9-4735-a444-04d79ccdff7f"
      },
      "execution_count": 19,
      "outputs": [
        {
          "output_type": "stream",
          "name": "stdout",
          "text": [
            "Sample List: [10, 5, 8, 20, 15]\n",
            "Second Largest Number: 15\n"
          ]
        }
      ]
    },
    {
      "cell_type": "markdown",
      "source": [
        "Write a Python program to reverse a list at a specific location"
      ],
      "metadata": {
        "id": "9cvYdydVs2Qx"
      }
    },
    {
      "cell_type": "code",
      "source": [
        "# Sample List\n",
        "my_list = [1, 2, 3, 4, 5]\n",
        "\n",
        "# Specify the location to reverse the list\n",
        "reverse_location = 2\n",
        "\n",
        "# Check if the location is valid\n",
        "if 0 <= reverse_location < len(my_list):\n",
        "    reversed_portion = []\n",
        "\n",
        "    # Reverse the portion using a loop\n",
        "    for i in range(reverse_location + 1):\n",
        "        reversed_portion.append(my_list[reverse_location - i])\n",
        "\n",
        "    rest_of_list = my_list[reverse_location + 1:]\n",
        "    reversed_list = reversed_portion + rest_of_list\n",
        "\n",
        "    # Display the result\n",
        "    print(\"Original List:\", my_list)\n",
        "    print(\"Reversed List at Location {}: {}\".format(reverse_location, reversed_list))\n",
        "else:\n",
        "    print(\"Invalid location.\")\n"
      ],
      "metadata": {
        "colab": {
          "base_uri": "https://localhost:8080/"
        },
        "id": "yBdazTD8s8-E",
        "outputId": "b952f2b4-6ab2-4793-80a6-cb4bd3049df5"
      },
      "execution_count": 20,
      "outputs": [
        {
          "output_type": "stream",
          "name": "stdout",
          "text": [
            "Original List: [1, 2, 3, 4, 5]\n",
            "Reversed List at Location 2: [3, 2, 1, 4, 5]\n"
          ]
        }
      ]
    },
    {
      "cell_type": "markdown",
      "source": [
        " Write a Python program to check if a list is a palindrome or not. Return true otherwise false"
      ],
      "metadata": {
        "id": "5j4UEcSkthxe"
      }
    },
    {
      "cell_type": "code",
      "source": [
        "\n",
        "input_list = [1, 2, 3, 2, 1]\n",
        "\n",
        "length = len(input_list)\n",
        "\n",
        "is_palindrome = True\n",
        "for i in range(length // 2):\n",
        "    if input_list[i] != input_list[length - i - 1]:\n",
        "        is_palindrome = False\n",
        "        break\n",
        "\n",
        "if is_palindrome:\n",
        "    print(\"The list is a palindrome.\")\n",
        "else:\n",
        "    print(\"The list is not a palindrome.\")\n"
      ],
      "metadata": {
        "colab": {
          "base_uri": "https://localhost:8080/"
        },
        "id": "4jdAR8LstmzB",
        "outputId": "3d96b8e6-ba05-4946-942a-f40756f3ff02"
      },
      "execution_count": 1,
      "outputs": [
        {
          "output_type": "stream",
          "name": "stdout",
          "text": [
            "The list is a palindrome.\n"
          ]
        }
      ]
    },
    {
      "cell_type": "markdown",
      "source": [
        "Write a Python a program to find the union and intersection of two lists"
      ],
      "metadata": {
        "id": "ew7KFQDqAUBd"
      }
    },
    {
      "cell_type": "code",
      "source": [
        "# Example lists\n",
        "list1 = [1, 2, 3, 4, 5]\n",
        "list2 = [3, 4, 5, 6, 7]\n",
        "\n",
        "# Find and print the union\n",
        "union_list = []\n",
        "for element in list1 + list2:\n",
        "    if element not in union_list:\n",
        "        union_list.append(element)\n",
        "print(\"Union:\", union_list)\n",
        "\n",
        "# Find and print the intersection\n",
        "intersection_list = []\n",
        "for element in list1:\n",
        "    if element in list2 and element not in intersection_list:\n",
        "        intersection_list.append(element)\n",
        "print(\"Intersection:\", intersection_list)\n"
      ],
      "metadata": {
        "colab": {
          "base_uri": "https://localhost:8080/"
        },
        "id": "8iLrj5NXAZNT",
        "outputId": "1b462508-8925-4f07-a867-8ad45f367af5"
      },
      "execution_count": 2,
      "outputs": [
        {
          "output_type": "stream",
          "name": "stdout",
          "text": [
            "Union: [1, 2, 3, 4, 5, 6, 7]\n",
            "Intersection: [3, 4, 5]\n"
          ]
        }
      ]
    },
    {
      "cell_type": "markdown",
      "source": [
        "Write a Python script to sort (ascending and descending) a dictionary by value"
      ],
      "metadata": {
        "id": "vV3oDOi9A1xq"
      }
    },
    {
      "cell_type": "code",
      "source": [
        "# Sample dictionary\n",
        "my_dict = {'apple': 5, 'banana': 2, 'orange': 8, 'grape': 3}\n",
        "\n",
        "# Sort in ascending order by values using loops\n",
        "sorted_asc = {}\n",
        "for key, value in sorted(my_dict.items(), key=lambda item: item[1]):\n",
        "    sorted_asc[key] = value\n",
        "\n",
        "# Sort in descending order by values using loops\n",
        "sorted_desc = {}\n",
        "for key, value in sorted(my_dict.items(), key=lambda item: item[1], reverse=True):\n",
        "    sorted_desc[key] = value\n",
        "\n",
        "# Print the sorted dictionaries\n",
        "print(\"Ascending Order:\", sorted_asc)\n",
        "print(\"Descending Order:\", sorted_desc)\n"
      ],
      "metadata": {
        "colab": {
          "base_uri": "https://localhost:8080/"
        },
        "id": "xWPAc7YxCgGK",
        "outputId": "2bfbb87a-cb13-4960-d616-ce5e71219778"
      },
      "execution_count": 6,
      "outputs": [
        {
          "output_type": "stream",
          "name": "stdout",
          "text": [
            "Ascending Order: {'banana': 2, 'grape': 3, 'apple': 5, 'orange': 8}\n",
            "Descending Order: {'orange': 8, 'apple': 5, 'grape': 3, 'banana': 2}\n"
          ]
        }
      ]
    },
    {
      "cell_type": "markdown",
      "source": [
        "Write a Python script to check whether a given key already exists in a dictionary."
      ],
      "metadata": {
        "id": "p-Ne6iC-DrbN"
      }
    },
    {
      "cell_type": "code",
      "source": [
        "# Example dictionary\n",
        "my_dict = {'name': 'John', 'age': 25, 'city': 'New York'}\n",
        "\n",
        "# Key to check\n",
        "key_to_check = 'age'\n",
        "\n",
        "# Check if the key exists\n",
        "if key_to_check in my_dict:\n",
        "    print(f\"The key '{key_to_check}' exists in the dictionary.\")\n",
        "else:\n",
        "    print(f\"The key '{key_to_check}' does not exist in the dictionary.\")\n"
      ],
      "metadata": {
        "colab": {
          "base_uri": "https://localhost:8080/"
        },
        "id": "TmWj9G5PDpjl",
        "outputId": "f845f793-a39a-4ab8-ffb7-cd3994e44fcc"
      },
      "execution_count": 7,
      "outputs": [
        {
          "output_type": "stream",
          "name": "stdout",
          "text": [
            "The key 'age' exists in the dictionary.\n"
          ]
        }
      ]
    },
    {
      "cell_type": "markdown",
      "source": [
        "Write a Python program to sum all the values in a dictionary."
      ],
      "metadata": {
        "id": "E5lzqAqJEFA0"
      }
    },
    {
      "cell_type": "code",
      "source": [
        "# Example dictionary\n",
        "my_dict = {'a': 10, 'b': 20, 'c': 30, 'd': 40}\n",
        "\n",
        "# Initialize a variable to store the sum\n",
        "total_sum = 0\n",
        "\n",
        "# Iterate through the values in the dictionary and calculate the sum\n",
        "for value in my_dict.values():\n",
        "    total_sum += value\n",
        "\n",
        "print(f\"The sum of all values in the dictionary is: {total_sum}\")\n"
      ],
      "metadata": {
        "colab": {
          "base_uri": "https://localhost:8080/"
        },
        "id": "IMPWr5O_EJvv",
        "outputId": "6e6b3113-e24f-4690-d704-034ff207baa3"
      },
      "execution_count": 8,
      "outputs": [
        {
          "output_type": "stream",
          "name": "stdout",
          "text": [
            "The sum of all values in the dictionary is: 100\n"
          ]
        }
      ]
    },
    {
      "cell_type": "markdown",
      "source": [
        "Write a Python program to create a dictionary with a number and its corresponding square from 1 to input number. And also check if the input number is less than 10\n",
        "Eg:\n",
        "Input : 3\n",
        "Output : {1:1, 2:4, 3:9}\n"
      ],
      "metadata": {
        "id": "vkp5IRKVEVOm"
      }
    },
    {
      "cell_type": "code",
      "source": [
        "# Prompt the user to input a number and store it in the variable 'n'.\n",
        "n = int(input(\"Input a number \"))\n",
        "\n",
        "# Create an empty dictionary 'd' to store the square of numbers.\n",
        "d = dict()\n",
        "\n",
        "# Iterate through numbers from 1 to 'n' (inclusive).\n",
        "for x in range(1, n + 1):\n",
        "    # Calculate the square of each number and store it in the dictionary 'd' with the number as the key.\n",
        "    d[x] = x * x\n",
        "\n",
        "# Print the dictionary 'd' containing the squares of numbers from 1 to 'n'.\n",
        "print(d)"
      ],
      "metadata": {
        "colab": {
          "base_uri": "https://localhost:8080/"
        },
        "id": "eAFYbIGOEcnc",
        "outputId": "ad37499e-d223-4e69-f411-900967996815"
      },
      "execution_count": 9,
      "outputs": [
        {
          "output_type": "stream",
          "name": "stdout",
          "text": [
            "Input a number 3\n",
            "{1: 1, 2: 4, 3: 9}\n"
          ]
        }
      ]
    },
    {
      "cell_type": "markdown",
      "source": [
        "Write a Python program to sort a given dictionary by key."
      ],
      "metadata": {
        "id": "xHPq7_ocGFsK"
      }
    },
    {
      "cell_type": "code",
      "source": [
        "# Sample dictionary\n",
        "input_dict = {'b': 3, 'a': 1, 'c': 2}\n",
        "\n",
        "# Sorting the dictionary by keys\n",
        "sorted_dict = dict(sorted(input_dict.items()))\n",
        "\n",
        "# Displaying the original and sorted dictionaries\n",
        "print(\"Original Dictionary:\", input_dict)\n",
        "print(\"Sorted Dictionary by Key:\", sorted_dict)\n"
      ],
      "metadata": {
        "colab": {
          "base_uri": "https://localhost:8080/"
        },
        "id": "P66bypILGL1X",
        "outputId": "4810443a-4a88-474b-b993-f7d92e608492"
      },
      "execution_count": 10,
      "outputs": [
        {
          "output_type": "stream",
          "name": "stdout",
          "text": [
            "Original Dictionary: {'b': 3, 'a': 1, 'c': 2}\n",
            "Sorted Dictionary by Key: {'a': 1, 'b': 3, 'c': 2}\n"
          ]
        }
      ]
    },
    {
      "cell_type": "markdown",
      "source": [
        " Write a Python program to create a dictionary from a string.\n",
        "Note: Track the count of the letters from the string.\n",
        "Sample string : 'learnpython'\n",
        "Expected output: {'l': 1, 'e': 1, 'a': 1, 'r': 1, 'n': 2, 'p': 1, 'y': 1, 't': 1, 'h': 1, 'o': 1}\n"
      ],
      "metadata": {
        "id": "o5r7x_GoGfMo"
      }
    },
    {
      "cell_type": "code",
      "source": [
        "# Sample string\n",
        "sample_string = 'learnpython'\n",
        "\n",
        "# Creating a dictionary to track letter counts\n",
        "letter_count = {}\n",
        "\n",
        "# Counting occurrences of each letter\n",
        "for letter in sample_string:\n",
        "    letter_count[letter] = letter_count.get(letter, 0) + 1\n",
        "\n",
        "# Displaying the result\n",
        "print(\"Sample String:\", sample_string)\n",
        "print(\"Letter Counts:\", letter_count)\n"
      ],
      "metadata": {
        "colab": {
          "base_uri": "https://localhost:8080/"
        },
        "id": "MwTZEL9bGiiN",
        "outputId": "4823bec4-fd26-4c79-989f-a5be8cf5d656"
      },
      "execution_count": 11,
      "outputs": [
        {
          "output_type": "stream",
          "name": "stdout",
          "text": [
            "Sample String: learnpython\n",
            "Letter Counts: {'l': 1, 'e': 1, 'a': 1, 'r': 1, 'n': 2, 'p': 1, 'y': 1, 't': 1, 'h': 1, 'o': 1}\n"
          ]
        }
      ]
    },
    {
      "cell_type": "markdown",
      "source": [
        "Write a Python program to get the top three items in a shop.\n",
        "Sample data: {'item1': 45.50, 'item2':35, 'item3': 41.30, 'item4':55, 'item5': 24}\n",
        "Expected Output:\n",
        "item4 55\n",
        "item1 45.5\n",
        "item3 41.3\n"
      ],
      "metadata": {
        "id": "bbSXgX_-Gspy"
      }
    },
    {
      "cell_type": "code",
      "source": [
        "# Sample data\n",
        "shop_items = {'item1': 45.50, 'item2': 35, 'item3': 41.30, 'item4': 55, 'item5': 24}\n",
        "\n",
        "# Sorting items by value in descending order\n",
        "sorted_items = sorted(shop_items.items(), key=lambda x: x[1], reverse=True)\n",
        "\n",
        "# Displaying the top three items\n",
        "print(\"Top Three Items:\")\n",
        "for item, price in sorted_items[:3]:\n",
        "    print(f\"{item} {price}\")\n"
      ],
      "metadata": {
        "colab": {
          "base_uri": "https://localhost:8080/"
        },
        "id": "cRCdqUtAGzpu",
        "outputId": "3ea5e6b9-b172-4914-9b05-b51e0f08d8a8"
      },
      "execution_count": 12,
      "outputs": [
        {
          "output_type": "stream",
          "name": "stdout",
          "text": [
            "Top Three Items:\n",
            "item4 55\n",
            "item1 45.5\n",
            "item3 41.3\n"
          ]
        }
      ]
    }
  ]
}